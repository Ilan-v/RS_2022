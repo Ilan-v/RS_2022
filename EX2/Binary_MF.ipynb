{
 "cells": [
  {
   "cell_type": "code",
   "execution_count": 1,
   "metadata": {},
   "outputs": [],
   "source": [
    "import pandas as pd\n",
    "import numpy as np\n",
    "import torch\n",
    "import math\n",
    "from tqdm import tqdm"
   ]
  },
  {
   "cell_type": "code",
   "execution_count": 2,
   "metadata": {},
   "outputs": [],
   "source": [
    "train_set=pd.read_csv('train.csv')"
   ]
  },
  {
   "cell_type": "code",
   "execution_count": 3,
   "metadata": {},
   "outputs": [],
   "source": [
    "items_list = list(train_set['ItemID'].unique())"
   ]
  },
  {
   "cell_type": "code",
   "execution_count": 4,
   "metadata": {},
   "outputs": [],
   "source": [
    "def create_user_items_dict(df: pd.DataFrame) -> dict:\n",
    "    user_items_dict = {}\n",
    "    for user, item in zip(df['UserID'], df['ItemID']):\n",
    "        if user not in user_items_dict:\n",
    "            user_items_dict[user] = []\n",
    "        user_items_dict[user].append(item)\n",
    "    return user_items_dict\n",
    "\n",
    "user_items_dict = create_user_items_dict(train_set)"
   ]
  },
  {
   "cell_type": "code",
   "execution_count": 5,
   "metadata": {},
   "outputs": [],
   "source": [
    "def sample_negative_examples_randomly(user_items_dict:dict, user:int, items_list:list)->list:\n",
    "    relevant_samples = [x for x in items_list if x not in user_items_dict[user]]\n",
    "    return list(np.random.choice(relevant_samples, len(user_items_dict[user]), replace=False))"
   ]
  },
  {
   "cell_type": "code",
   "execution_count": 6,
   "metadata": {},
   "outputs": [],
   "source": [
    "def sample_negative_examples_by_popularity(user_items_dict:dict, user:int, items_list:list, train_set:pd.DataFrame)->list:\n",
    "    popularity_df = train_set.groupby('ItemID').size().reset_index(name='counts')\n",
    "    popularity_df['probability'] = popularity_df['counts'] / popularity_df['counts'].sum()\n",
    "    item_probability_dict = dict(zip(popularity_df['ItemID'], popularity_df['probability']))\n",
    "    relevant_samples = [x for x in items_list if x not in user_items_dict[user]]\n",
    "    probabilities = [item_probability_dict[x] for x in relevant_samples]\n",
    "    return list(np.random.choice(relevant_samples, len(user_items_dict[user]), replace=False, p=probabilities))"
   ]
  },
  {
   "cell_type": "code",
   "execution_count": 7,
   "metadata": {},
   "outputs": [],
   "source": [
    "def create_items_embeddings(items_list:list, alpha_item ,k:int)->dict:\n",
    "    items_embeddings = {}\n",
    "    for item in items_list:\n",
    "        items_embeddings[item] = np.random.normal(0, alpha_item, k)\n",
    "    return items_embeddings"
   ]
  },
  {
   "cell_type": "code",
   "execution_count": 8,
   "metadata": {},
   "outputs": [],
   "source": [
    "def create_users_embeddings(user_items_dict:dict, alpha_user, k:int)->dict:\n",
    "    users_embeddings = {}\n",
    "    for user in user_items_dict:\n",
    "        users_embeddings[user] = np.random.normal(0, alpha_user, k)\n",
    "    return users_embeddings"
   ]
  },
  {
   "cell_type": "code",
   "execution_count": 9,
   "metadata": {},
   "outputs": [],
   "source": [
    "def sigmoid(x):\n",
    "    return 1 / (1 + math.exp(-x))"
   ]
  },
  {
   "cell_type": "code",
   "execution_count": 22,
   "metadata": {},
   "outputs": [],
   "source": [
    "def training_loop(user_items_dict, items_list, alpha_user, alpha_item, k, lr, epochs, sample_negative_by_popularity=False)->tuple:\n",
    "    items_embeddings = create_items_embeddings(items_list, alpha_item, k)\n",
    "    users_embeddings = create_users_embeddings(user_items_dict, alpha_user, k)\n",
    "\n",
    "    for epoch in tqdm(range(epochs)):\n",
    "        for user in user_items_dict:\n",
    "            if sample_negative_by_popularity:\n",
    "                negative_item = sample_negative_examples_by_popularity(user_items_dict, user, items_list, train_set)\n",
    "            else:\n",
    "                negative_item = sample_negative_examples_randomly(user_items_dict, user, items_list)\n",
    "            for item in user_items_dict[user]:\n",
    "                print(np.dot(users_embeddings[user], items_embeddings[item]))\n",
    "                prediction = math.log2(sigmoid(np.dot(users_embeddings[user], items_embeddings[item])))\n",
    "                error = 1 - prediction\n",
    "                users_embeddings[user] += -lr * -error * items_embeddings[item] + alpha_user * users_embeddings[user]\n",
    "                items_embeddings[item] += -lr * -error * users_embeddings[user] + alpha_item * items_embeddings[item]\n",
    "\n",
    "            for item in negative_item:\n",
    "                prediction = math.log2(sigmoid(-1*(users_embeddings[user]).T.dot(items_embeddings[item])))\n",
    "                error = 0 - prediction\n",
    "                users_embeddings[user] += -lr * -error * items_embeddings[item] + alpha_user * users_embeddings[user]\n",
    "                items_embeddings[item] += -lr * -error * users_embeddings[user] + alpha_item * items_embeddings[item]\n",
    "            \n",
    "    return users_embeddings, items_embeddings"
   ]
  },
  {
   "cell_type": "code",
   "execution_count": 23,
   "metadata": {},
   "outputs": [
    {
     "name": "stderr",
     "output_type": "stream",
     "text": [
      "  0%|          | 0/10 [00:00<?, ?it/s]"
     ]
    },
    {
     "name": "stdout",
     "output_type": "stream",
     "text": [
      "-0.03349641210852546\n",
      "-0.012208793319974732\n",
      "-0.00016418435439653745\n",
      "0.09875591048637698\n",
      "0.0004447559691591425\n",
      "-0.05241870567690552\n",
      "0.03912948631129917\n",
      "-0.022594963503161786\n",
      "-0.1764321042117724\n",
      "0.022851211791438977\n",
      "0.028955221815384277\n",
      "-0.15433471628835504\n",
      "-0.0949828739937689\n",
      "-0.1507943355565096\n",
      "0.3879970293974609\n",
      "-0.17521007310923073\n",
      "-0.21531740823676587\n",
      "-0.4049316475075954\n",
      "-0.3804923560725815\n",
      "0.3773473376610537\n",
      "0.14029198984137894\n",
      "0.34458952403637577\n",
      "-0.544891838403028\n",
      "0.0881081139741447\n",
      "0.21422437096289887\n",
      "-0.01567479707979763\n",
      "0.7092430195176087\n",
      "-0.5270941451740879\n",
      "0.09832678268350173\n",
      "0.9570004237510079\n",
      "0.6738242400673814\n",
      "-0.6766410840129422\n",
      "-0.0385469552550214\n",
      "0.6275493330727093\n",
      "-0.7820003471960738\n",
      "-0.031221636284405913\n",
      "0.42011471255223154\n",
      "-1.0917141049013857\n",
      "-0.2544413114476536\n",
      "-2.008661491369921\n",
      "1.5532757383576818\n",
      "-2.4399589383469364\n",
      "3.3647749061613177\n",
      "-0.15416955306443042\n",
      "0.7941099566284389\n",
      "-1.46302916986631\n",
      "8.161654407266907\n",
      "1.4060066708823693\n",
      "-0.08170228149736802\n",
      "1.0362081688881495\n",
      "9.48123657924525\n"
     ]
    },
    {
     "name": "stderr",
     "output_type": "stream",
     "text": [
      "  0%|          | 0/10 [00:00<?, ?it/s]"
     ]
    },
    {
     "name": "stdout",
     "output_type": "stream",
     "text": [
      "0.028258012011809684\n",
      "-0.00022216148582771336\n",
      "0.0072549292363601105\n",
      "0.08170302004442688\n",
      "0.12133108721769455\n",
      "-0.0439146837190533\n",
      "-0.01691344721406558\n",
      "0.03315169207196703\n",
      "-0.038453433021355295\n",
      "-0.1037779722074211\n",
      "0.05664026845666503\n",
      "0.10401246415674006\n",
      "-0.15188469709665775\n",
      "0.024172419138931422\n",
      "-0.0787982005872884\n",
      "-0.3303527573623083\n",
      "-0.3247324425112008\n",
      "-0.10409176486639055\n",
      "0.09834666556733751\n",
      "-0.04853861401869465\n",
      "0.28901616906357647\n",
      "-0.08513307986995046\n",
      "0.12923574358507126\n",
      "-0.054758221758446024\n",
      "0.17619821319491752\n",
      "-0.34382046467140936\n",
      "-0.051610351270104105\n",
      "-0.5295566443540202\n",
      "1.0109288395098328\n",
      "-0.3220689466359552\n",
      "-0.6216070842484278\n",
      "-0.38901144630058726\n",
      "0.2918415253382285\n",
      "-0.18545958685181876\n",
      "0.2972796129282317\n",
      "-0.7680685085593566\n",
      "0.8608190797442685\n",
      "-1.7574375880385056\n",
      "2.105169099923748\n",
      "-1.3696462231042816\n",
      "-0.16219015018291494\n",
      "1.7825879352606275\n",
      "1.0175631939550778\n",
      "-1.2654367342210477\n",
      "2.950954207322851\n",
      "0.7177975690759648\n",
      "0.6127643672865176\n",
      "-2.290413446716829\n",
      "2.4887161876219848\n",
      "-0.3807264575367979\n",
      "-3.808547720632509\n",
      "-1.9416181099431395\n",
      "-10.145161906989982\n",
      "4.15530029383977\n",
      "0.1816266032713939\n",
      "2.5285577552861698\n",
      "15.974557831824892\n",
      "-7.210593924764334\n",
      "2.7538429484412985\n",
      "-2.0788729845037888\n",
      "-0.2820254078984046\n",
      "-12.704509895976077\n",
      "-14.118843016000266\n",
      "-4.931417963964531\n",
      "-8.251883545690898\n",
      "-15.40461091166808\n",
      "-27.94768246015532\n",
      "-10.24476798737691\n",
      "-29.66852363647167\n",
      "29.50364053437156\n",
      "-94.6149086843699\n",
      "-9.846927468730645\n",
      "5.3810116166005635\n",
      "45.78829557328127\n",
      "-21.584621704012605\n",
      "-43.42688817390272\n",
      "13.4602368480346\n",
      "-4.771148053096322\n",
      "-93.13451449243524\n",
      "-10.516918305089547\n",
      "73.60331792680736\n",
      "-66.48597221172943\n",
      "31.597806787240057\n",
      "53.96620352867508\n",
      "-25.872455153555695\n",
      "196.35313457116905\n",
      "85.55888030160146\n",
      "165.44954801483036\n",
      "-71.05041457599448\n",
      "63.21884943083989\n",
      "-465.593205043487\n",
      "-232.80482090267577\n",
      "185.95478681506756\n",
      "-90.86772530305396\n",
      "91.63431370148693\n",
      "-249.67678347960359\n",
      "-464.85355099869287\n",
      "209.0133367100349\n",
      "83.10094694442509\n",
      "-430.08291588556284\n",
      "-42.79853546810884\n",
      "459.5786827777472\n",
      "195.05943669989466\n",
      "775.6895826666492\n",
      "-1521.7474856547508\n"
     ]
    },
    {
     "name": "stderr",
     "output_type": "stream",
     "text": [
      "\n"
     ]
    },
    {
     "ename": "OverflowError",
     "evalue": "math range error",
     "output_type": "error",
     "traceback": [
      "\u001b[1;31m---------------------------------------------------------------------------\u001b[0m",
      "\u001b[1;31mOverflowError\u001b[0m                             Traceback (most recent call last)",
      "\u001b[1;32mc:\\Users\\liort\\OneDrive\\שולחן העבודה\\לימודים\\קורס מתקדם במערכות המלצה\\Rec_Sys_EX1\\RS_Ex1\\EX2\\Binary_MF.ipynb Cell 11\u001b[0m in \u001b[0;36m<cell line: 1>\u001b[1;34m()\u001b[0m\n\u001b[1;32m----> <a href='vscode-notebook-cell:/c%3A/Users/liort/OneDrive/%D7%A9%D7%95%D7%9C%D7%97%D7%9F%20%D7%94%D7%A2%D7%91%D7%95%D7%93%D7%94/%D7%9C%D7%99%D7%9E%D7%95%D7%93%D7%99%D7%9D/%D7%A7%D7%95%D7%A8%D7%A1%20%D7%9E%D7%AA%D7%A7%D7%93%D7%9D%20%D7%91%D7%9E%D7%A2%D7%A8%D7%9B%D7%95%D7%AA%20%D7%94%D7%9E%D7%9C%D7%A6%D7%94/Rec_Sys_EX1/RS_Ex1/EX2/Binary_MF.ipynb#X33sZmlsZQ%3D%3D?line=0'>1</a>\u001b[0m users_embeddings, items_embeddings \u001b[39m=\u001b[39m training_loop(user_items_dict, items_list, \u001b[39m0.1\u001b[39;49m, \u001b[39m0.1\u001b[39;49m, \u001b[39m20\u001b[39;49m, \u001b[39m0.01\u001b[39;49m, \u001b[39m10\u001b[39;49m, sample_negative_by_popularity\u001b[39m=\u001b[39;49m\u001b[39mFalse\u001b[39;49;00m)\n",
      "\u001b[1;32mc:\\Users\\liort\\OneDrive\\שולחן העבודה\\לימודים\\קורס מתקדם במערכות המלצה\\Rec_Sys_EX1\\RS_Ex1\\EX2\\Binary_MF.ipynb Cell 11\u001b[0m in \u001b[0;36mtraining_loop\u001b[1;34m(user_items_dict, items_list, alpha_user, alpha_item, k, lr, epochs, sample_negative_by_popularity)\u001b[0m\n\u001b[0;32m     <a href='vscode-notebook-cell:/c%3A/Users/liort/OneDrive/%D7%A9%D7%95%D7%9C%D7%97%D7%9F%20%D7%94%D7%A2%D7%91%D7%95%D7%93%D7%94/%D7%9C%D7%99%D7%9E%D7%95%D7%93%D7%99%D7%9D/%D7%A7%D7%95%D7%A8%D7%A1%20%D7%9E%D7%AA%D7%A7%D7%93%D7%9D%20%D7%91%D7%9E%D7%A2%D7%A8%D7%9B%D7%95%D7%AA%20%D7%94%D7%9E%D7%9C%D7%A6%D7%94/Rec_Sys_EX1/RS_Ex1/EX2/Binary_MF.ipynb#X33sZmlsZQ%3D%3D?line=10'>11</a>\u001b[0m \u001b[39mfor\u001b[39;00m item \u001b[39min\u001b[39;00m user_items_dict[user]:\n\u001b[0;32m     <a href='vscode-notebook-cell:/c%3A/Users/liort/OneDrive/%D7%A9%D7%95%D7%9C%D7%97%D7%9F%20%D7%94%D7%A2%D7%91%D7%95%D7%93%D7%94/%D7%9C%D7%99%D7%9E%D7%95%D7%93%D7%99%D7%9D/%D7%A7%D7%95%D7%A8%D7%A1%20%D7%9E%D7%AA%D7%A7%D7%93%D7%9D%20%D7%91%D7%9E%D7%A2%D7%A8%D7%9B%D7%95%D7%AA%20%D7%94%D7%9E%D7%9C%D7%A6%D7%94/Rec_Sys_EX1/RS_Ex1/EX2/Binary_MF.ipynb#X33sZmlsZQ%3D%3D?line=11'>12</a>\u001b[0m     \u001b[39mprint\u001b[39m(np\u001b[39m.\u001b[39mdot(users_embeddings[user], items_embeddings[item]))\n\u001b[1;32m---> <a href='vscode-notebook-cell:/c%3A/Users/liort/OneDrive/%D7%A9%D7%95%D7%9C%D7%97%D7%9F%20%D7%94%D7%A2%D7%91%D7%95%D7%93%D7%94/%D7%9C%D7%99%D7%9E%D7%95%D7%93%D7%99%D7%9D/%D7%A7%D7%95%D7%A8%D7%A1%20%D7%9E%D7%AA%D7%A7%D7%93%D7%9D%20%D7%91%D7%9E%D7%A2%D7%A8%D7%9B%D7%95%D7%AA%20%D7%94%D7%9E%D7%9C%D7%A6%D7%94/Rec_Sys_EX1/RS_Ex1/EX2/Binary_MF.ipynb#X33sZmlsZQ%3D%3D?line=12'>13</a>\u001b[0m     prediction \u001b[39m=\u001b[39m math\u001b[39m.\u001b[39mlog2(sigmoid(np\u001b[39m.\u001b[39;49mdot(users_embeddings[user], items_embeddings[item])))\n\u001b[0;32m     <a href='vscode-notebook-cell:/c%3A/Users/liort/OneDrive/%D7%A9%D7%95%D7%9C%D7%97%D7%9F%20%D7%94%D7%A2%D7%91%D7%95%D7%93%D7%94/%D7%9C%D7%99%D7%9E%D7%95%D7%93%D7%99%D7%9D/%D7%A7%D7%95%D7%A8%D7%A1%20%D7%9E%D7%AA%D7%A7%D7%93%D7%9D%20%D7%91%D7%9E%D7%A2%D7%A8%D7%9B%D7%95%D7%AA%20%D7%94%D7%9E%D7%9C%D7%A6%D7%94/Rec_Sys_EX1/RS_Ex1/EX2/Binary_MF.ipynb#X33sZmlsZQ%3D%3D?line=13'>14</a>\u001b[0m     error \u001b[39m=\u001b[39m \u001b[39m1\u001b[39m \u001b[39m-\u001b[39m prediction\n\u001b[0;32m     <a href='vscode-notebook-cell:/c%3A/Users/liort/OneDrive/%D7%A9%D7%95%D7%9C%D7%97%D7%9F%20%D7%94%D7%A2%D7%91%D7%95%D7%93%D7%94/%D7%9C%D7%99%D7%9E%D7%95%D7%93%D7%99%D7%9D/%D7%A7%D7%95%D7%A8%D7%A1%20%D7%9E%D7%AA%D7%A7%D7%93%D7%9D%20%D7%91%D7%9E%D7%A2%D7%A8%D7%9B%D7%95%D7%AA%20%D7%94%D7%9E%D7%9C%D7%A6%D7%94/Rec_Sys_EX1/RS_Ex1/EX2/Binary_MF.ipynb#X33sZmlsZQ%3D%3D?line=14'>15</a>\u001b[0m     users_embeddings[user] \u001b[39m+\u001b[39m\u001b[39m=\u001b[39m \u001b[39m-\u001b[39mlr \u001b[39m*\u001b[39m \u001b[39m-\u001b[39merror \u001b[39m*\u001b[39m items_embeddings[item] \u001b[39m+\u001b[39m alpha_user \u001b[39m*\u001b[39m users_embeddings[user]\n",
      "\u001b[1;32mc:\\Users\\liort\\OneDrive\\שולחן העבודה\\לימודים\\קורס מתקדם במערכות המלצה\\Rec_Sys_EX1\\RS_Ex1\\EX2\\Binary_MF.ipynb Cell 11\u001b[0m in \u001b[0;36msigmoid\u001b[1;34m(x)\u001b[0m\n\u001b[0;32m      <a href='vscode-notebook-cell:/c%3A/Users/liort/OneDrive/%D7%A9%D7%95%D7%9C%D7%97%D7%9F%20%D7%94%D7%A2%D7%91%D7%95%D7%93%D7%94/%D7%9C%D7%99%D7%9E%D7%95%D7%93%D7%99%D7%9D/%D7%A7%D7%95%D7%A8%D7%A1%20%D7%9E%D7%AA%D7%A7%D7%93%D7%9D%20%D7%91%D7%9E%D7%A2%D7%A8%D7%9B%D7%95%D7%AA%20%D7%94%D7%9E%D7%9C%D7%A6%D7%94/Rec_Sys_EX1/RS_Ex1/EX2/Binary_MF.ipynb#X33sZmlsZQ%3D%3D?line=0'>1</a>\u001b[0m \u001b[39mdef\u001b[39;00m \u001b[39msigmoid\u001b[39m(x):\n\u001b[1;32m----> <a href='vscode-notebook-cell:/c%3A/Users/liort/OneDrive/%D7%A9%D7%95%D7%9C%D7%97%D7%9F%20%D7%94%D7%A2%D7%91%D7%95%D7%93%D7%94/%D7%9C%D7%99%D7%9E%D7%95%D7%93%D7%99%D7%9D/%D7%A7%D7%95%D7%A8%D7%A1%20%D7%9E%D7%AA%D7%A7%D7%93%D7%9D%20%D7%91%D7%9E%D7%A2%D7%A8%D7%9B%D7%95%D7%AA%20%D7%94%D7%9E%D7%9C%D7%A6%D7%94/Rec_Sys_EX1/RS_Ex1/EX2/Binary_MF.ipynb#X33sZmlsZQ%3D%3D?line=1'>2</a>\u001b[0m     \u001b[39mreturn\u001b[39;00m \u001b[39m1\u001b[39m \u001b[39m/\u001b[39m (\u001b[39m1\u001b[39m \u001b[39m+\u001b[39m math\u001b[39m.\u001b[39;49mexp(\u001b[39m-\u001b[39;49mx))\n",
      "\u001b[1;31mOverflowError\u001b[0m: math range error"
     ]
    }
   ],
   "source": [
    "users_embeddings, items_embeddings = training_loop(user_items_dict, items_list, 0.1, 0.1, 20, 0.01, 10, sample_negative_by_popularity=False)"
   ]
  },
  {
   "cell_type": "code",
   "execution_count": null,
   "metadata": {},
   "outputs": [],
   "source": [
    "def prediction_on_test_set(row:pd.Series, users_embeddings:dict, items_embeddings:dict)->pd.Series:\n",
    "    user = row['UserID']\n",
    "    item_1 = row['Item1']\n",
    "    item_2 = row['Item2']\n",
    "\n",
    "    item_1_score = np.dot(users_embeddings[user], items_embeddings[item_1])\n",
    "    item_2_score = np.dot(users_embeddings[user], items_embeddings[item_2])\n",
    "\n",
    "    if item_1_score > item_2_score:\n",
    "        row['prediction'] = 0\n",
    "    else:\n",
    "        row['prediction'] = 1"
   ]
  }
 ],
 "metadata": {
  "kernelspec": {
   "display_name": "Python 3",
   "language": "python",
   "name": "python3"
  },
  "language_info": {
   "codemirror_mode": {
    "name": "ipython",
    "version": 3
   },
   "file_extension": ".py",
   "mimetype": "text/x-python",
   "name": "python",
   "nbconvert_exporter": "python",
   "pygments_lexer": "ipython3",
   "version": "3.9.7"
  },
  "orig_nbformat": 4,
  "vscode": {
   "interpreter": {
    "hash": "0162daef2ac4f91d71dc659d7366b1318efa6dce3a9605ecac659f5b282e8a3d"
   }
  }
 },
 "nbformat": 4,
 "nbformat_minor": 2
}
