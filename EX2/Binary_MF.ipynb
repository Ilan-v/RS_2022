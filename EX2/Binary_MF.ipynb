{
 "cells": [
  {
   "cell_type": "code",
   "execution_count": 1,
   "metadata": {},
   "outputs": [],
   "source": [
    "import pandas as pd\n",
    "import pickle\n",
    "from tqdm import tqdm\n",
    "import numpy as np\n",
    "\n",
    "from utils import *"
   ]
  },
  {
   "cell_type": "code",
   "execution_count": 2,
   "metadata": {},
   "outputs": [],
   "source": [
    "train_set=pd.read_csv('data/train.csv')"
   ]
  },
  {
   "cell_type": "code",
   "execution_count": 3,
   "metadata": {},
   "outputs": [],
   "source": [
    "items_list = list(train_set['ItemID'].unique())"
   ]
  },
  {
   "cell_type": "code",
   "execution_count": 4,
   "metadata": {},
   "outputs": [],
   "source": [
    "user_items_dict = create_user_items_dict(train_set)"
   ]
  },
  {
   "cell_type": "code",
   "execution_count": 5,
   "metadata": {},
   "outputs": [],
   "source": [
    "item_probability_dict = create_item_popularity_dict(train_set)"
   ]
  },
  {
   "cell_type": "code",
   "execution_count": 6,
   "metadata": {},
   "outputs": [],
   "source": [
    "#check if user_negative_samples_by_popularity.pkl exists\n",
    "try:\n",
    "    with open('users_negative_samples/user_negative_samples_by_popularity.pkl', 'rb') as f:\n",
    "        user_negative_samples_by_popularity = pickle.load(f)\n",
    "except:\n",
    "    user_negative_samples_by_popularity = sample_negative_examples_by_popularity(user_items_dict, items_list, item_probability_dict)\n",
    "    #save user_negative_samples_by_popularity.pkl\n",
    "    with open('users_negative_samples/user_negative_samples_by_popularity.pkl', 'wb') as f:\n",
    "        pickle.dump(user_negative_samples_by_popularity, f)"
   ]
  },
  {
   "cell_type": "code",
   "execution_count": 10,
   "metadata": {},
   "outputs": [
    {
     "name": "stderr",
     "output_type": "stream",
     "text": [
      "  8%|▊         | 475/6040 [01:44<20:20,  4.56it/s]  \n"
     ]
    },
    {
     "ename": "KeyboardInterrupt",
     "evalue": "",
     "output_type": "error",
     "traceback": [
      "\u001b[1;31m---------------------------------------------------------------------------\u001b[0m",
      "\u001b[1;31mFileNotFoundError\u001b[0m                         Traceback (most recent call last)",
      "\u001b[1;32mc:\\Users\\liort\\OneDrive\\שולחן העבודה\\לימודים\\קורס מתקדם במערכות המלצה\\Rec_Sys_EX1\\RS_Ex1\\EX2\\Binary_MF.ipynb Cell 7\u001b[0m in \u001b[0;36m<cell line: 1>\u001b[1;34m()\u001b[0m\n\u001b[0;32m      <a href='vscode-notebook-cell:/c%3A/Users/liort/OneDrive/%D7%A9%D7%95%D7%9C%D7%97%D7%9F%20%D7%94%D7%A2%D7%91%D7%95%D7%93%D7%94/%D7%9C%D7%99%D7%9E%D7%95%D7%93%D7%99%D7%9D/%D7%A7%D7%95%D7%A8%D7%A1%20%D7%9E%D7%AA%D7%A7%D7%93%D7%9D%20%D7%91%D7%9E%D7%A2%D7%A8%D7%9B%D7%95%D7%AA%20%D7%94%D7%9E%D7%9C%D7%A6%D7%94/Rec_Sys_EX1/RS_Ex1/EX2/Binary_MF.ipynb#X42sZmlsZQ%3D%3D?line=0'>1</a>\u001b[0m \u001b[39mtry\u001b[39;00m:\n\u001b[1;32m----> <a href='vscode-notebook-cell:/c%3A/Users/liort/OneDrive/%D7%A9%D7%95%D7%9C%D7%97%D7%9F%20%D7%94%D7%A2%D7%91%D7%95%D7%93%D7%94/%D7%9C%D7%99%D7%9E%D7%95%D7%93%D7%99%D7%9D/%D7%A7%D7%95%D7%A8%D7%A1%20%D7%9E%D7%AA%D7%A7%D7%93%D7%9D%20%D7%91%D7%9E%D7%A2%D7%A8%D7%9B%D7%95%D7%AA%20%D7%94%D7%9E%D7%9C%D7%A6%D7%94/Rec_Sys_EX1/RS_Ex1/EX2/Binary_MF.ipynb#X42sZmlsZQ%3D%3D?line=1'>2</a>\u001b[0m     \u001b[39mwith\u001b[39;00m \u001b[39mopen\u001b[39;49m(\u001b[39m'\u001b[39;49m\u001b[39musers_negative_samples/user_negative_samples_randomly.pkl\u001b[39;49m\u001b[39m'\u001b[39;49m, \u001b[39m'\u001b[39;49m\u001b[39mrb\u001b[39;49m\u001b[39m'\u001b[39;49m) \u001b[39mas\u001b[39;00m f:\n\u001b[0;32m      <a href='vscode-notebook-cell:/c%3A/Users/liort/OneDrive/%D7%A9%D7%95%D7%9C%D7%97%D7%9F%20%D7%94%D7%A2%D7%91%D7%95%D7%93%D7%94/%D7%9C%D7%99%D7%9E%D7%95%D7%93%D7%99%D7%9D/%D7%A7%D7%95%D7%A8%D7%A1%20%D7%9E%D7%AA%D7%A7%D7%93%D7%9D%20%D7%91%D7%9E%D7%A2%D7%A8%D7%9B%D7%95%D7%AA%20%D7%94%D7%9E%D7%9C%D7%A6%D7%94/Rec_Sys_EX1/RS_Ex1/EX2/Binary_MF.ipynb#X42sZmlsZQ%3D%3D?line=2'>3</a>\u001b[0m         user_negative_samples_randomly \u001b[39m=\u001b[39m pickle\u001b[39m.\u001b[39mload(f)\n",
      "\u001b[1;31mFileNotFoundError\u001b[0m: [Errno 2] No such file or directory: 'users_negative_samples/user_negative_samples_randomly.pkl'",
      "\nDuring handling of the above exception, another exception occurred:\n",
      "\u001b[1;31mKeyboardInterrupt\u001b[0m                         Traceback (most recent call last)",
      "\u001b[1;32mc:\\Users\\liort\\OneDrive\\שולחן העבודה\\לימודים\\קורס מתקדם במערכות המלצה\\Rec_Sys_EX1\\RS_Ex1\\EX2\\Binary_MF.ipynb Cell 7\u001b[0m in \u001b[0;36m<cell line: 1>\u001b[1;34m()\u001b[0m\n\u001b[0;32m      <a href='vscode-notebook-cell:/c%3A/Users/liort/OneDrive/%D7%A9%D7%95%D7%9C%D7%97%D7%9F%20%D7%94%D7%A2%D7%91%D7%95%D7%93%D7%94/%D7%9C%D7%99%D7%9E%D7%95%D7%93%D7%99%D7%9D/%D7%A7%D7%95%D7%A8%D7%A1%20%D7%9E%D7%AA%D7%A7%D7%93%D7%9D%20%D7%91%D7%9E%D7%A2%D7%A8%D7%9B%D7%95%D7%AA%20%D7%94%D7%9E%D7%9C%D7%A6%D7%94/Rec_Sys_EX1/RS_Ex1/EX2/Binary_MF.ipynb#X42sZmlsZQ%3D%3D?line=2'>3</a>\u001b[0m         user_negative_samples_randomly \u001b[39m=\u001b[39m pickle\u001b[39m.\u001b[39mload(f)\n\u001b[0;32m      <a href='vscode-notebook-cell:/c%3A/Users/liort/OneDrive/%D7%A9%D7%95%D7%9C%D7%97%D7%9F%20%D7%94%D7%A2%D7%91%D7%95%D7%93%D7%94/%D7%9C%D7%99%D7%9E%D7%95%D7%93%D7%99%D7%9D/%D7%A7%D7%95%D7%A8%D7%A1%20%D7%9E%D7%AA%D7%A7%D7%93%D7%9D%20%D7%91%D7%9E%D7%A2%D7%A8%D7%9B%D7%95%D7%AA%20%D7%94%D7%9E%D7%9C%D7%A6%D7%94/Rec_Sys_EX1/RS_Ex1/EX2/Binary_MF.ipynb#X42sZmlsZQ%3D%3D?line=3'>4</a>\u001b[0m \u001b[39mexcept\u001b[39;00m:\n\u001b[1;32m----> <a href='vscode-notebook-cell:/c%3A/Users/liort/OneDrive/%D7%A9%D7%95%D7%9C%D7%97%D7%9F%20%D7%94%D7%A2%D7%91%D7%95%D7%93%D7%94/%D7%9C%D7%99%D7%9E%D7%95%D7%93%D7%99%D7%9D/%D7%A7%D7%95%D7%A8%D7%A1%20%D7%9E%D7%AA%D7%A7%D7%93%D7%9D%20%D7%91%D7%9E%D7%A2%D7%A8%D7%9B%D7%95%D7%AA%20%D7%94%D7%9E%D7%9C%D7%A6%D7%94/Rec_Sys_EX1/RS_Ex1/EX2/Binary_MF.ipynb#X42sZmlsZQ%3D%3D?line=4'>5</a>\u001b[0m     user_negative_samples_randomly \u001b[39m=\u001b[39m sample_negative_examples_randomly(user_items_dict, items_list)\n\u001b[0;32m      <a href='vscode-notebook-cell:/c%3A/Users/liort/OneDrive/%D7%A9%D7%95%D7%9C%D7%97%D7%9F%20%D7%94%D7%A2%D7%91%D7%95%D7%93%D7%94/%D7%9C%D7%99%D7%9E%D7%95%D7%93%D7%99%D7%9D/%D7%A7%D7%95%D7%A8%D7%A1%20%D7%9E%D7%AA%D7%A7%D7%93%D7%9D%20%D7%91%D7%9E%D7%A2%D7%A8%D7%9B%D7%95%D7%AA%20%D7%94%D7%9E%D7%9C%D7%A6%D7%94/Rec_Sys_EX1/RS_Ex1/EX2/Binary_MF.ipynb#X42sZmlsZQ%3D%3D?line=5'>6</a>\u001b[0m     \u001b[39m#save user_negative_samples_randomly.pkl\u001b[39;00m\n\u001b[0;32m      <a href='vscode-notebook-cell:/c%3A/Users/liort/OneDrive/%D7%A9%D7%95%D7%9C%D7%97%D7%9F%20%D7%94%D7%A2%D7%91%D7%95%D7%93%D7%94/%D7%9C%D7%99%D7%9E%D7%95%D7%93%D7%99%D7%9D/%D7%A7%D7%95%D7%A8%D7%A1%20%D7%9E%D7%AA%D7%A7%D7%93%D7%9D%20%D7%91%D7%9E%D7%A2%D7%A8%D7%9B%D7%95%D7%AA%20%D7%94%D7%9E%D7%9C%D7%A6%D7%94/Rec_Sys_EX1/RS_Ex1/EX2/Binary_MF.ipynb#X42sZmlsZQ%3D%3D?line=6'>7</a>\u001b[0m     \u001b[39mwith\u001b[39;00m \u001b[39mopen\u001b[39m(\u001b[39m'\u001b[39m\u001b[39musers_negative_samples/user_negative_samples_randomly.pkl\u001b[39m\u001b[39m'\u001b[39m, \u001b[39m'\u001b[39m\u001b[39mwb\u001b[39m\u001b[39m'\u001b[39m) \u001b[39mas\u001b[39;00m f:\n",
      "File \u001b[1;32mc:\\Users\\liort\\OneDrive\\שולחן העבודה\\לימודים\\קורס מתקדם במערכות המלצה\\Rec_Sys_EX1\\RS_Ex1\\EX2\\utils.py:17\u001b[0m, in \u001b[0;36msample_negative_examples_randomly\u001b[1;34m(user_items_dict, items_list)\u001b[0m\n\u001b[0;32m     15\u001b[0m negative_samples\u001b[39m=\u001b[39m{}\n\u001b[0;32m     16\u001b[0m \u001b[39mfor\u001b[39;00m user \u001b[39min\u001b[39;00m tqdm(user_items_dict):\n\u001b[1;32m---> 17\u001b[0m     relevant_samples \u001b[39m=\u001b[39m [x \u001b[39mfor\u001b[39;00m x \u001b[39min\u001b[39;00m items_list \u001b[39mif\u001b[39;00m x \u001b[39mnot\u001b[39;00m \u001b[39min\u001b[39;00m user_items_dict[user]]\n\u001b[0;32m     18\u001b[0m     number_of_samples \u001b[39m=\u001b[39m \u001b[39mmin\u001b[39m(\u001b[39mlen\u001b[39m(relevant_samples), \u001b[39mlen\u001b[39m(user_items_dict[user]))\n\u001b[0;32m     19\u001b[0m     negative_samples[user] \u001b[39m=\u001b[39m \u001b[39mlist\u001b[39m(np\u001b[39m.\u001b[39mrandom\u001b[39m.\u001b[39mchoice(relevant_samples, number_of_samples, replace\u001b[39m=\u001b[39m\u001b[39mFalse\u001b[39;00m))\n",
      "File \u001b[1;32mc:\\Users\\liort\\OneDrive\\שולחן העבודה\\לימודים\\קורס מתקדם במערכות המלצה\\Rec_Sys_EX1\\RS_Ex1\\EX2\\utils.py:17\u001b[0m, in \u001b[0;36m<listcomp>\u001b[1;34m(.0)\u001b[0m\n\u001b[0;32m     15\u001b[0m negative_samples\u001b[39m=\u001b[39m{}\n\u001b[0;32m     16\u001b[0m \u001b[39mfor\u001b[39;00m user \u001b[39min\u001b[39;00m tqdm(user_items_dict):\n\u001b[1;32m---> 17\u001b[0m     relevant_samples \u001b[39m=\u001b[39m [x \u001b[39mfor\u001b[39;00m x \u001b[39min\u001b[39;00m items_list \u001b[39mif\u001b[39;00m x \u001b[39mnot\u001b[39;00m \u001b[39min\u001b[39;00m user_items_dict[user]]\n\u001b[0;32m     18\u001b[0m     number_of_samples \u001b[39m=\u001b[39m \u001b[39mmin\u001b[39m(\u001b[39mlen\u001b[39m(relevant_samples), \u001b[39mlen\u001b[39m(user_items_dict[user]))\n\u001b[0;32m     19\u001b[0m     negative_samples[user] \u001b[39m=\u001b[39m \u001b[39mlist\u001b[39m(np\u001b[39m.\u001b[39mrandom\u001b[39m.\u001b[39mchoice(relevant_samples, number_of_samples, replace\u001b[39m=\u001b[39m\u001b[39mFalse\u001b[39;00m))\n",
      "\u001b[1;31mKeyboardInterrupt\u001b[0m: "
     ]
    }
   ],
   "source": [
    "try:\n",
    "    with open('users_negative_samples/user_negative_samples_randomly.pkl', 'rb') as f:\n",
    "        user_negative_samples_randomly = pickle.load(f)\n",
    "except:\n",
    "    user_negative_samples_randomly = sample_negative_examples_randomly(user_items_dict, items_list)\n",
    "    #save user_negative_samples_randomly.pkl\n",
    "    with open('users_negative_samples/user_negative_samples_randomly.pkl', 'wb') as f:\n",
    "        pickle.dump(user_negative_samples_randomly, f)"
   ]
  },
  {
   "cell_type": "code",
   "execution_count": 8,
   "metadata": {},
   "outputs": [],
   "source": [
    "def training_loop(user_items_dict:dict,\n",
    "                    items_list:list,\n",
    "                    alpha_user:float,\n",
    "                    alpha_item:float,\n",
    "                    k:int,\n",
    "                    lr:float,\n",
    "                    epochs:int,\n",
    "                    user_negative_samples_by_popularity:dict,\n",
    "                    user_negative_samples_randomly:dict,\n",
    "                    sample_negative_by_popularity:bool=False)->tuple:\n",
    "    items_embeddings = create_items_embeddings(items_list, alpha_item, k)\n",
    "    users_embeddings = create_users_embeddings(user_items_dict, alpha_user, k)\n",
    "\n",
    "    for epoch in tqdm(range(epochs)):\n",
    "        for user in tqdm(user_items_dict):\n",
    "            if sample_negative_by_popularity:\n",
    "                negative_item = user_negative_samples_by_popularity(user)\n",
    "            else:\n",
    "                negative_item = user_negative_samples_randomly(user)\n",
    "            for item in user_items_dict[user]:\n",
    "                prediction = sigmoid(np.dot(users_embeddings[user], items_embeddings[item]))\n",
    "                error = 1 - prediction\n",
    "                users_embeddings[user] += lr * error * items_embeddings[item] - alpha_user * users_embeddings[user]\n",
    "                items_embeddings[item] += lr * error * users_embeddings[user] - alpha_item * items_embeddings[item]\n",
    "\n",
    "            for item in negative_item:\n",
    "                prediction = sigmoid(-1*(users_embeddings[user]).T.dot(items_embeddings[item]))\n",
    "                error = 0 - prediction\n",
    "                users_embeddings[user] += lr * error * items_embeddings[item] - alpha_user * users_embeddings[user]\n",
    "                items_embeddings[item] += lr * error * users_embeddings[user] - alpha_item * items_embeddings[item]\n",
    "            \n",
    "    return users_embeddings, items_embeddings"
   ]
  },
  {
   "cell_type": "code",
   "execution_count": 9,
   "metadata": {},
   "outputs": [
    {
     "ename": "TypeError",
     "evalue": "training_loop() missing 2 required positional arguments: 'user_negative_samples_by_popularity' and 'user_negative_samples_randomly'",
     "output_type": "error",
     "traceback": [
      "\u001b[1;31m---------------------------------------------------------------------------\u001b[0m",
      "\u001b[1;31mTypeError\u001b[0m                                 Traceback (most recent call last)",
      "\u001b[1;32mc:\\Users\\liort\\OneDrive\\שולחן העבודה\\לימודים\\קורס מתקדם במערכות המלצה\\Rec_Sys_EX1\\RS_Ex1\\EX2\\Binary_MF.ipynb Cell 9\u001b[0m in \u001b[0;36m<cell line: 1>\u001b[1;34m()\u001b[0m\n\u001b[1;32m----> <a href='vscode-notebook-cell:/c%3A/Users/liort/OneDrive/%D7%A9%D7%95%D7%9C%D7%97%D7%9F%20%D7%94%D7%A2%D7%91%D7%95%D7%93%D7%94/%D7%9C%D7%99%D7%9E%D7%95%D7%93%D7%99%D7%9D/%D7%A7%D7%95%D7%A8%D7%A1%20%D7%9E%D7%AA%D7%A7%D7%93%D7%9D%20%D7%91%D7%9E%D7%A2%D7%A8%D7%9B%D7%95%D7%AA%20%D7%94%D7%9E%D7%9C%D7%A6%D7%94/Rec_Sys_EX1/RS_Ex1/EX2/Binary_MF.ipynb#X33sZmlsZQ%3D%3D?line=0'>1</a>\u001b[0m users_embeddings, items_embeddings \u001b[39m=\u001b[39m training_loop(user_items_dict, items_list, \u001b[39m0.1\u001b[39;49m, \u001b[39m0.1\u001b[39;49m, \u001b[39m20\u001b[39;49m, \u001b[39m0.01\u001b[39;49m, \u001b[39m10\u001b[39;49m, sample_negative_by_popularity\u001b[39m=\u001b[39;49m\u001b[39mTrue\u001b[39;49;00m)\n",
      "\u001b[1;31mTypeError\u001b[0m: training_loop() missing 2 required positional arguments: 'user_negative_samples_by_popularity' and 'user_negative_samples_randomly'"
     ]
    }
   ],
   "source": [
    "users_embeddings, items_embeddings = training_loop(user_items_dict, items_list, 0.1, 0.1, 20, 0.01, 10, sample_negative_by_popularity=True)"
   ]
  },
  {
   "cell_type": "code",
   "execution_count": null,
   "metadata": {},
   "outputs": [],
   "source": [
    "def prediction_on_test_set(row:pd.Series, users_embeddings:dict, items_embeddings:dict)->pd.Series:\n",
    "    user = row['UserID']\n",
    "    item_1 = row['Item1']\n",
    "    item_2 = row['Item2']\n",
    "\n",
    "    item_1_score = np.dot(users_embeddings[user], items_embeddings[item_1])\n",
    "    item_2_score = np.dot(users_embeddings[user], items_embeddings[item_2])\n",
    "\n",
    "    if item_1_score > item_2_score:\n",
    "        row['prediction'] = 0\n",
    "    else:\n",
    "        row['prediction'] = 1"
   ]
  }
 ],
 "metadata": {
  "kernelspec": {
   "display_name": "Python 3",
   "language": "python",
   "name": "python3"
  },
  "language_info": {
   "codemirror_mode": {
    "name": "ipython",
    "version": 3
   },
   "file_extension": ".py",
   "mimetype": "text/x-python",
   "name": "python",
   "nbconvert_exporter": "python",
   "pygments_lexer": "ipython3",
   "version": "3.9.7"
  },
  "orig_nbformat": 4,
  "vscode": {
   "interpreter": {
    "hash": "0162daef2ac4f91d71dc659d7366b1318efa6dce3a9605ecac659f5b282e8a3d"
   }
  }
 },
 "nbformat": 4,
 "nbformat_minor": 2
}
