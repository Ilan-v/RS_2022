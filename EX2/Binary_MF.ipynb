{
 "cells": [
  {
   "cell_type": "code",
   "execution_count": 1,
   "metadata": {},
   "outputs": [],
   "source": [
    "import pandas as pd\n",
    "import pickle\n",
    "from tqdm import tqdm\n",
    "import numpy as np\n",
    "\n",
    "from utils import *"
   ]
  },
  {
   "cell_type": "code",
   "execution_count": 2,
   "metadata": {},
   "outputs": [],
   "source": [
    "train_set=pd.read_csv('data/train.csv')"
   ]
  },
  {
   "cell_type": "code",
   "execution_count": 3,
   "metadata": {},
   "outputs": [],
   "source": [
    "items_list = list(train_set['ItemID'].unique())"
   ]
  },
  {
   "cell_type": "code",
   "execution_count": 4,
   "metadata": {},
   "outputs": [],
   "source": [
    "user_items_dict = create_user_items_dict(train_set)"
   ]
  },
  {
   "cell_type": "code",
   "execution_count": 5,
   "metadata": {},
   "outputs": [],
   "source": [
    "item_probability_dict = create_item_popularity_dict(train_set)"
   ]
  },
  {
   "cell_type": "code",
   "execution_count": 7,
   "metadata": {},
   "outputs": [
    {
     "name": "stderr",
     "output_type": "stream",
     "text": [
      "100%|██████████| 6040/6040 [01:20<00:00, 74.80it/s] \n"
     ]
    }
   ],
   "source": [
    "#check if user_negative_samples_by_popularity.pkl exists\n",
    "try:\n",
    "    with open('data/negative_samples/user_negative_samples_by_popularity.pkl', 'rb') as f:\n",
    "        user_negative_samples_by_popularity = pickle.load(f)\n",
    "except:\n",
    "    user_negative_samples_by_popularity = sample_negative_examples_by_popularity(user_items_dict, items_list, item_probability_dict)\n",
    "    #save user_negative_samples_by_popularity.pkl\n",
    "    with open('data/negative_samples/user_negative_samples_by_popularity.pkl', 'wb') as f:\n",
    "        pickle.dump(user_negative_samples_by_popularity, f)"
   ]
  },
  {
   "cell_type": "code",
   "execution_count": 8,
   "metadata": {},
   "outputs": [
    {
     "name": "stderr",
     "output_type": "stream",
     "text": [
      "100%|██████████| 6040/6040 [01:13<00:00, 82.72it/s] \n"
     ]
    }
   ],
   "source": [
    "try:\n",
    "    with open('data/negative_samples/user_negative_samples_randomly.pkl', 'rb') as f:\n",
    "        user_negative_samples_randomly = pickle.load(f)\n",
    "except:\n",
    "    user_negative_samples_randomly = sample_negative_examples_randomly(user_items_dict, items_list)\n",
    "    #save user_negative_samples_randomly.pkl\n",
    "    with open('data/negative_samples/user_negative_samples_randomly.pkl', 'wb') as f:\n",
    "        pickle.dump(user_negative_samples_randomly, f)"
   ]
  },
  {
   "cell_type": "code",
   "execution_count": 12,
   "metadata": {},
   "outputs": [],
   "source": [
    "def training_loop(user_items_dict:dict,\n",
    "                    items_list:list,\n",
    "                    alpha_user:float,\n",
    "                    alpha_item:float,\n",
    "                    k:int,\n",
    "                    lr:float,\n",
    "                    epochs:int,\n",
    "                    user_negative_samples_by_popularity:dict,\n",
    "                    user_negative_samples_randomly:dict,\n",
    "                    sample_negative_by_popularity:bool=False)->tuple:\n",
    "    items_embeddings = create_items_embeddings(items_list, alpha_item, k)\n",
    "    users_embeddings = create_users_embeddings(user_items_dict, alpha_user, k)\n",
    "\n",
    "    for epoch in tqdm(range(epochs)):\n",
    "        for user in user_items_dict:\n",
    "            if sample_negative_by_popularity:\n",
    "                negative_item = user_negative_samples_by_popularity[user]\n",
    "            else:\n",
    "                negative_item = user_negative_samples_randomly[user]\n",
    "            for item in user_items_dict[user]:\n",
    "                prediction = sigmoid(np.dot(users_embeddings[user], items_embeddings[item]))\n",
    "                error = 1 - prediction\n",
    "                users_embeddings[user] += lr * error * items_embeddings[item] - alpha_user * users_embeddings[user]\n",
    "                items_embeddings[item] += lr * error * users_embeddings[user] - alpha_item * items_embeddings[item]\n",
    "\n",
    "            for item in negative_item:\n",
    "                prediction = sigmoid(-1*(users_embeddings[user]).T.dot(items_embeddings[item]))\n",
    "                error = 0 - prediction\n",
    "                users_embeddings[user] += lr * error * items_embeddings[item] - alpha_user * users_embeddings[user]\n",
    "                items_embeddings[item] += lr * error * users_embeddings[user] - alpha_item * items_embeddings[item]\n",
    "            \n",
    "    return users_embeddings, items_embeddings"
   ]
  },
  {
   "cell_type": "code",
   "execution_count": 13,
   "metadata": {},
   "outputs": [
    {
     "name": "stderr",
     "output_type": "stream",
     "text": [
      "100%|██████████| 10/10 [08:09<00:00, 48.95s/it]\n"
     ]
    }
   ],
   "source": [
    "users_embeddings, items_embeddings = training_loop( user_items_dict=user_items_dict,\n",
    "                                                    items_list=items_list,\n",
    "                                                    alpha_user=0.1,\n",
    "                                                    alpha_item=0.1,\n",
    "                                                    k=20, \n",
    "                                                    lr=0.01,\n",
    "                                                    epochs=10,\n",
    "                                                    user_negative_samples_by_popularity=user_negative_samples_by_popularity,\n",
    "                                                    user_negative_samples_randomly=user_negative_samples_randomly,\n",
    "                                                    sample_negative_by_popularity=True\n",
    "                                                )"
   ]
  },
  {
   "cell_type": "code",
   "execution_count": null,
   "metadata": {},
   "outputs": [],
   "source": [
    "def prediction_on_test_set(row:pd.Series, users_embeddings:dict, items_embeddings:dict)->pd.Series:\n",
    "    user = row['UserID']\n",
    "    item_1 = row['Item1']\n",
    "    item_2 = row['Item2']\n",
    "\n",
    "    item_1_score = np.dot(users_embeddings[user], items_embeddings[item_1])\n",
    "    item_2_score = np.dot(users_embeddings[user], items_embeddings[item_2])\n",
    "\n",
    "    if item_1_score > item_2_score:\n",
    "        row['prediction'] = 0\n",
    "    else:\n",
    "        row['prediction'] = 1"
   ]
  }
 ],
 "metadata": {
  "kernelspec": {
   "display_name": "base",
   "language": "python",
   "name": "python3"
  },
  "language_info": {
   "codemirror_mode": {
    "name": "ipython",
    "version": 3
   },
   "file_extension": ".py",
   "mimetype": "text/x-python",
   "name": "python",
   "nbconvert_exporter": "python",
   "pygments_lexer": "ipython3",
   "version": "3.8.8"
  },
  "orig_nbformat": 4,
  "vscode": {
   "interpreter": {
    "hash": "d0d24260c26781aab6a6247b3ae992ece4f26fd75ea3713b7a84756a27d5e272"
   }
  }
 },
 "nbformat": 4,
 "nbformat_minor": 2
}
